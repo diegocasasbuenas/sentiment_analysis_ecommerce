{
 "cells": [
  {
   "cell_type": "markdown",
   "metadata": {},
   "source": [
    "## Exploratory Data Analysis: Amazon Pet Products reviews"
   ]
  },
  {
   "cell_type": "code",
   "execution_count": 1,
   "metadata": {},
   "outputs": [],
   "source": [
    "import pandas as pd\n",
    "import numpy as np\n",
    "import matplotlib.pyplot as plt \n",
    "plt.style.use('ggplot')\n",
    "import seaborn as sns\n",
    "import os"
   ]
  },
  {
   "cell_type": "code",
   "execution_count": 2,
   "metadata": {},
   "outputs": [],
   "source": [
    "os.chdir(\"/mnt/c/Users/diego/OneDrive/Documentos/Data science projects/nlp 2/petsentiment_analysis\")"
   ]
  },
  {
   "cell_type": "code",
   "execution_count": 3,
   "metadata": {},
   "outputs": [
    {
     "data": {
      "text/html": [
       "<div>\n",
       "<style scoped>\n",
       "    .dataframe tbody tr th:only-of-type {\n",
       "        vertical-align: middle;\n",
       "    }\n",
       "\n",
       "    .dataframe tbody tr th {\n",
       "        vertical-align: top;\n",
       "    }\n",
       "\n",
       "    .dataframe thead th {\n",
       "        text-align: right;\n",
       "    }\n",
       "</style>\n",
       "<table border=\"1\" class=\"dataframe\">\n",
       "  <thead>\n",
       "    <tr style=\"text-align: right;\">\n",
       "      <th></th>\n",
       "      <th>rating</th>\n",
       "      <th>title</th>\n",
       "      <th>text</th>\n",
       "      <th>asin</th>\n",
       "      <th>parent_asin</th>\n",
       "      <th>user_id</th>\n",
       "      <th>timestamp</th>\n",
       "      <th>helpful_vote</th>\n",
       "      <th>verified_purchase</th>\n",
       "    </tr>\n",
       "  </thead>\n",
       "  <tbody>\n",
       "    <tr>\n",
       "      <th>0</th>\n",
       "      <td>1.0</td>\n",
       "      <td>Not durable</td>\n",
       "      <td>Opened this and gave to my two medium size dog...</td>\n",
       "      <td>B0002ASNMU</td>\n",
       "      <td>B0BM21F82G</td>\n",
       "      <td>AFZ7XMWG6DXKI63EPOBPK7W7QIEQ</td>\n",
       "      <td>2023-02-22 02:35:57.945000+00:00</td>\n",
       "      <td>0</td>\n",
       "      <td>True</td>\n",
       "    </tr>\n",
       "    <tr>\n",
       "      <th>1</th>\n",
       "      <td>1.0</td>\n",
       "      <td>Warranty is a joke.</td>\n",
       "      <td>My dog chewed through this harness on about 3 ...</td>\n",
       "      <td>B00A7EXS5I</td>\n",
       "      <td>B07BRJF2SW</td>\n",
       "      <td>AFUORUIMJALPSG3VUWSXY2FMSDQA</td>\n",
       "      <td>2023-05-13 19:22:01.561000+00:00</td>\n",
       "      <td>2</td>\n",
       "      <td>True</td>\n",
       "    </tr>\n",
       "    <tr>\n",
       "      <th>2</th>\n",
       "      <td>1.0</td>\n",
       "      <td>Didn’t work</td>\n",
       "      <td>It didn’t work at all for my dog he is 30 lbs ...</td>\n",
       "      <td>B08MVBDV5V</td>\n",
       "      <td>B0C1VH3V99</td>\n",
       "      <td>AHXF542MTZNBO3VN67NF5VXLZ45Q</td>\n",
       "      <td>2023-07-05 04:08:21.669000+00:00</td>\n",
       "      <td>0</td>\n",
       "      <td>True</td>\n",
       "    </tr>\n",
       "    <tr>\n",
       "      <th>3</th>\n",
       "      <td>1.0</td>\n",
       "      <td>Function</td>\n",
       "      <td>Cats didn’t use it😞</td>\n",
       "      <td>B093F6CV44</td>\n",
       "      <td>B094NHVKFN</td>\n",
       "      <td>AH42DXAG6RD24MH5KACH2Q3SQ73A</td>\n",
       "      <td>2023-02-03 18:09:01.735000+00:00</td>\n",
       "      <td>0</td>\n",
       "      <td>True</td>\n",
       "    </tr>\n",
       "    <tr>\n",
       "      <th>4</th>\n",
       "      <td>1.0</td>\n",
       "      <td>Only squeezed twice.</td>\n",
       "      <td>Felt didn’t last. Squeaker stopped working aft...</td>\n",
       "      <td>B07P5PRRY5</td>\n",
       "      <td>B0B8BM4GS6</td>\n",
       "      <td>AFVSG4S2POGC5IENQGGBOPBQQ7VA</td>\n",
       "      <td>2023-02-25 20:15:10.152000+00:00</td>\n",
       "      <td>0</td>\n",
       "      <td>True</td>\n",
       "    </tr>\n",
       "  </tbody>\n",
       "</table>\n",
       "</div>"
      ],
      "text/plain": [
       "   rating                 title  \\\n",
       "0     1.0           Not durable   \n",
       "1     1.0   Warranty is a joke.   \n",
       "2     1.0           Didn’t work   \n",
       "3     1.0              Function   \n",
       "4     1.0  Only squeezed twice.   \n",
       "\n",
       "                                                text        asin parent_asin  \\\n",
       "0  Opened this and gave to my two medium size dog...  B0002ASNMU  B0BM21F82G   \n",
       "1  My dog chewed through this harness on about 3 ...  B00A7EXS5I  B07BRJF2SW   \n",
       "2  It didn’t work at all for my dog he is 30 lbs ...  B08MVBDV5V  B0C1VH3V99   \n",
       "3                                Cats didn’t use it😞  B093F6CV44  B094NHVKFN   \n",
       "4  Felt didn’t last. Squeaker stopped working aft...  B07P5PRRY5  B0B8BM4GS6   \n",
       "\n",
       "                        user_id                         timestamp  \\\n",
       "0  AFZ7XMWG6DXKI63EPOBPK7W7QIEQ  2023-02-22 02:35:57.945000+00:00   \n",
       "1  AFUORUIMJALPSG3VUWSXY2FMSDQA  2023-05-13 19:22:01.561000+00:00   \n",
       "2  AHXF542MTZNBO3VN67NF5VXLZ45Q  2023-07-05 04:08:21.669000+00:00   \n",
       "3  AH42DXAG6RD24MH5KACH2Q3SQ73A  2023-02-03 18:09:01.735000+00:00   \n",
       "4  AFVSG4S2POGC5IENQGGBOPBQQ7VA  2023-02-25 20:15:10.152000+00:00   \n",
       "\n",
       "   helpful_vote  verified_purchase  \n",
       "0             0               True  \n",
       "1             2               True  \n",
       "2             0               True  \n",
       "3             0               True  \n",
       "4             0               True  "
      ]
     },
     "execution_count": 3,
     "metadata": {},
     "output_type": "execute_result"
    }
   ],
   "source": [
    "data = pd.read_csv(\"data/raw/balanced_data.csv\")\n",
    "data.head()"
   ]
  },
  {
   "cell_type": "code",
   "execution_count": 4,
   "metadata": {},
   "outputs": [
    {
     "name": "stdout",
     "output_type": "stream",
     "text": [
      "<class 'pandas.core.frame.DataFrame'>\n",
      "RangeIndex: 302400 entries, 0 to 302399\n",
      "Data columns (total 9 columns):\n",
      " #   Column             Non-Null Count   Dtype  \n",
      "---  ------             --------------   -----  \n",
      " 0   rating             302400 non-null  float64\n",
      " 1   title              302400 non-null  object \n",
      " 2   text               302400 non-null  object \n",
      " 3   asin               302400 non-null  object \n",
      " 4   parent_asin        302400 non-null  object \n",
      " 5   user_id            302400 non-null  object \n",
      " 6   timestamp          302400 non-null  object \n",
      " 7   helpful_vote       302400 non-null  int64  \n",
      " 8   verified_purchase  302400 non-null  bool   \n",
      "dtypes: bool(1), float64(1), int64(1), object(6)\n",
      "memory usage: 18.7+ MB\n"
     ]
    }
   ],
   "source": [
    "data.info()"
   ]
  },
  {
   "cell_type": "code",
   "execution_count": 5,
   "metadata": {},
   "outputs": [
    {
     "data": {
      "text/html": [
       "<div>\n",
       "<style scoped>\n",
       "    .dataframe tbody tr th:only-of-type {\n",
       "        vertical-align: middle;\n",
       "    }\n",
       "\n",
       "    .dataframe tbody tr th {\n",
       "        vertical-align: top;\n",
       "    }\n",
       "\n",
       "    .dataframe thead th {\n",
       "        text-align: right;\n",
       "    }\n",
       "</style>\n",
       "<table border=\"1\" class=\"dataframe\">\n",
       "  <thead>\n",
       "    <tr style=\"text-align: right;\">\n",
       "      <th></th>\n",
       "      <th>count</th>\n",
       "      <th>mean</th>\n",
       "      <th>std</th>\n",
       "      <th>min</th>\n",
       "      <th>25%</th>\n",
       "      <th>50%</th>\n",
       "      <th>75%</th>\n",
       "      <th>max</th>\n",
       "    </tr>\n",
       "  </thead>\n",
       "  <tbody>\n",
       "    <tr>\n",
       "      <th>rating</th>\n",
       "      <td>302400.0</td>\n",
       "      <td>2.999815</td>\n",
       "      <td>1.414204</td>\n",
       "      <td>1.0</td>\n",
       "      <td>2.0</td>\n",
       "      <td>3.0</td>\n",
       "      <td>4.0</td>\n",
       "      <td>5.0</td>\n",
       "    </tr>\n",
       "    <tr>\n",
       "      <th>helpful_vote</th>\n",
       "      <td>302400.0</td>\n",
       "      <td>0.414220</td>\n",
       "      <td>1.851932</td>\n",
       "      <td>0.0</td>\n",
       "      <td>0.0</td>\n",
       "      <td>0.0</td>\n",
       "      <td>0.0</td>\n",
       "      <td>466.0</td>\n",
       "    </tr>\n",
       "  </tbody>\n",
       "</table>\n",
       "</div>"
      ],
      "text/plain": [
       "                 count      mean       std  min  25%  50%  75%    max\n",
       "rating        302400.0  2.999815  1.414204  1.0  2.0  3.0  4.0    5.0\n",
       "helpful_vote  302400.0  0.414220  1.851932  0.0  0.0  0.0  0.0  466.0"
      ]
     },
     "execution_count": 5,
     "metadata": {},
     "output_type": "execute_result"
    }
   ],
   "source": [
    "data.describe().T"
   ]
  },
  {
   "cell_type": "code",
   "execution_count": 6,
   "metadata": {},
   "outputs": [
    {
     "data": {
      "text/html": [
       "<div>\n",
       "<style scoped>\n",
       "    .dataframe tbody tr th:only-of-type {\n",
       "        vertical-align: middle;\n",
       "    }\n",
       "\n",
       "    .dataframe tbody tr th {\n",
       "        vertical-align: top;\n",
       "    }\n",
       "\n",
       "    .dataframe thead th {\n",
       "        text-align: right;\n",
       "    }\n",
       "</style>\n",
       "<table border=\"1\" class=\"dataframe\">\n",
       "  <thead>\n",
       "    <tr style=\"text-align: right;\">\n",
       "      <th></th>\n",
       "      <th>count</th>\n",
       "      <th>unique</th>\n",
       "      <th>top</th>\n",
       "      <th>freq</th>\n",
       "    </tr>\n",
       "  </thead>\n",
       "  <tbody>\n",
       "    <tr>\n",
       "      <th>title</th>\n",
       "      <td>302400</td>\n",
       "      <td>206884</td>\n",
       "      <td>Disappointed</td>\n",
       "      <td>915</td>\n",
       "    </tr>\n",
       "    <tr>\n",
       "      <th>text</th>\n",
       "      <td>302400</td>\n",
       "      <td>294669</td>\n",
       "      <td></td>\n",
       "      <td>1071</td>\n",
       "    </tr>\n",
       "    <tr>\n",
       "      <th>asin</th>\n",
       "      <td>302400</td>\n",
       "      <td>107443</td>\n",
       "      <td>B0BMBC1FJX</td>\n",
       "      <td>631</td>\n",
       "    </tr>\n",
       "    <tr>\n",
       "      <th>parent_asin</th>\n",
       "      <td>302400</td>\n",
       "      <td>63974</td>\n",
       "      <td>B0BMBC1FJX</td>\n",
       "      <td>631</td>\n",
       "    </tr>\n",
       "    <tr>\n",
       "      <th>user_id</th>\n",
       "      <td>302400</td>\n",
       "      <td>255604</td>\n",
       "      <td>AH7OPR5CWTXCRWYECY34T62KA2QA</td>\n",
       "      <td>63</td>\n",
       "    </tr>\n",
       "    <tr>\n",
       "      <th>timestamp</th>\n",
       "      <td>302400</td>\n",
       "      <td>299767</td>\n",
       "      <td>2023-01-08 21:50:14.135000+00:00</td>\n",
       "      <td>9</td>\n",
       "    </tr>\n",
       "  </tbody>\n",
       "</table>\n",
       "</div>"
      ],
      "text/plain": [
       "              count  unique                               top  freq\n",
       "title        302400  206884                      Disappointed   915\n",
       "text         302400  294669                                    1071\n",
       "asin         302400  107443                        B0BMBC1FJX   631\n",
       "parent_asin  302400   63974                        B0BMBC1FJX   631\n",
       "user_id      302400  255604      AH7OPR5CWTXCRWYECY34T62KA2QA    63\n",
       "timestamp    302400  299767  2023-01-08 21:50:14.135000+00:00     9"
      ]
     },
     "execution_count": 6,
     "metadata": {},
     "output_type": "execute_result"
    }
   ],
   "source": [
    "data.describe(include = object).T"
   ]
  },
  {
   "cell_type": "markdown",
   "metadata": {},
   "source": [
    "#### Check for the existence of null values and duplicates"
   ]
  },
  {
   "cell_type": "code",
   "execution_count": 7,
   "metadata": {},
   "outputs": [
    {
     "name": "stdout",
     "output_type": "stream",
     "text": [
      "Null values by column:\n",
      "rating               0\n",
      "title                0\n",
      "text                 0\n",
      "asin                 0\n",
      "parent_asin          0\n",
      "user_id              0\n",
      "timestamp            0\n",
      "helpful_vote         0\n",
      "verified_purchase    0\n",
      "dtype: int64\n"
     ]
    }
   ],
   "source": [
    "print(\"Null values by column:\")\n",
    "print(data.isnull().sum())"
   ]
  },
  {
   "cell_type": "code",
   "execution_count": 8,
   "metadata": {},
   "outputs": [
    {
     "name": "stdout",
     "output_type": "stream",
     "text": [
      "Duplicate values:\n",
      "2629\n"
     ]
    }
   ],
   "source": [
    "print(\"Duplicate values:\")\n",
    "print(data.duplicated().sum())"
   ]
  },
  {
   "cell_type": "markdown",
   "metadata": {},
   "source": [
    "#### Remove duplicate values"
   ]
  },
  {
   "cell_type": "code",
   "execution_count": 9,
   "metadata": {},
   "outputs": [
    {
     "name": "stdout",
     "output_type": "stream",
     "text": [
      "0\n"
     ]
    }
   ],
   "source": [
    "data = data.drop_duplicates()\n",
    "print(data.duplicated().sum())"
   ]
  },
  {
   "cell_type": "markdown",
   "metadata": {},
   "source": [
    "#### View the rating distribution\n",
    "\n",
    "The dataset was previously balanced to achieve better results when training models."
   ]
  },
  {
   "cell_type": "code",
   "execution_count": 10,
   "metadata": {},
   "outputs": [
    {
     "name": "stderr",
     "output_type": "stream",
     "text": [
      "/tmp/ipykernel_4111/598743582.py:2: FutureWarning: \n",
      "\n",
      "Passing `palette` without assigning `hue` is deprecated and will be removed in v0.14.0. Assign the `x` variable to `hue` and set `legend=False` for the same effect.\n",
      "\n",
      "  sns.countplot(x = data[\"rating\"], palette = \"inferno\")\n"
     ]
    },
    {
     "data": {
      "image/png": "[encoded data removed]",
      "text/plain": [
       "<Figure size 800x500 with 1 Axes>"
      ]
     },
     "metadata": {},
     "output_type": "display_data"
    }
   ],
   "source": [
    "plt.figure(figsize = (8,5))\n",
    "sns.countplot(x = data[\"rating\"], palette = \"inferno\")\n",
    "plt.title(\"Rating distribution\")\n",
    "plt.xlabel(\"Star rating\")\n",
    "plt.ylabel(\"Number of reviews\")\n",
    "plt.show()"
   ]
  },
  {
   "cell_type": "markdown",
   "metadata": {},
   "source": [
    "#### Analysis of Helpful Votes"
   ]
  },
  {
   "cell_type": "code",
   "execution_count": 11,
   "metadata": {},
   "outputs": [
    {
     "name": "stderr",
     "output_type": "stream",
     "text": [
      "/tmp/ipykernel_4111/4100735549.py:2: UserWarning: Ignoring `palette` because no `hue` variable has been assigned.\n",
      "  sns.histplot(data[\"helpful_vote\"], bins=30, kde=True , palette = \"inferno\")\n"
     ]
    },
    {
     "data": {
      "image/png": "[encoded data removed]",
      "text/plain": [
       "<Figure size 700x400 with 1 Axes>"
      ]
     },
     "metadata": {},
     "output_type": "display_data"
    }
   ],
   "source": [
    "plt.figure(figsize=(7,4))\n",
    "sns.histplot(data[\"helpful_vote\"], bins=30, kde=True , palette = \"inferno\")\n",
    "plt.title(\"Distribution of Helpful Votes in Reviews.\")\n",
    "plt.xlabel(\"Helpful votes\")\n",
    "plt.ylabel(\"Number of reviews\")\n",
    "plt.show()"
   ]
  },
  {
   "cell_type": "code",
   "execution_count": 12,
   "metadata": {},
   "outputs": [
    {
     "name": "stderr",
     "output_type": "stream",
     "text": [
      "/tmp/ipykernel_4111/359809865.py:2: FutureWarning: \n",
      "\n",
      "Passing `palette` without assigning `hue` is deprecated and will be removed in v0.14.0. Assign the `x` variable to `hue` and set `legend=False` for the same effect.\n",
      "\n",
      "  sns.boxplot(x=data[\"rating\"], y=data[\"helpful_vote\"], palette=\"inferno\")\n"
     ]
    },
    {
     "data": {
      "image/png": "[encoded data removed]",
      "text/plain": [
       "<Figure size 700x400 with 1 Axes>"
      ]
     },
     "metadata": {},
     "output_type": "display_data"
    }
   ],
   "source": [
    "plt.figure(figsize=(7,4))\n",
    "sns.boxplot(x=data[\"rating\"], y=data[\"helpful_vote\"], palette=\"inferno\")\n",
    "plt.title(\"Helpful Votes by Rating\")\n",
    "plt.xlabel(\"Star Rating\")\n",
    "plt.ylabel(\"Helpful Votes\")\n",
    "plt.ylim(0, data[\"helpful_vote\"].quantile(0.95)) \n",
    "plt.show()"
   ]
  },
  {
   "cell_type": "markdown",
   "metadata": {},
   "source": [
    "#### Analysis of Verified Purchases"
   ]
  },
  {
   "cell_type": "code",
   "execution_count": 13,
   "metadata": {},
   "outputs": [
    {
     "name": "stderr",
     "output_type": "stream",
     "text": [
      "/tmp/ipykernel_4111/4253661383.py:2: FutureWarning: \n",
      "\n",
      "Passing `palette` without assigning `hue` is deprecated and will be removed in v0.14.0. Assign the `x` variable to `hue` and set `legend=False` for the same effect.\n",
      "\n",
      "  sns.countplot(x=data[\"verified_purchase\"], palette=\"Blues\")\n"
     ]
    },
    {
     "data": {
      "image/png": "[encoded data removed]",
      "text/plain": [
       "<Figure size 700x400 with 1 Axes>"
      ]
     },
     "metadata": {},
     "output_type": "display_data"
    }
   ],
   "source": [
    "plt.figure(figsize=(7,4))\n",
    "sns.countplot(x=data[\"verified_purchase\"], palette=\"Blues\")\n",
    "plt.title(\"Distribution of verfied purchases\")\n",
    "plt.xlabel(\"Verified purchase\")\n",
    "plt.ylabel(\"Number of reviews\")\n",
    "plt.show()"
   ]
  },
  {
   "cell_type": "code",
   "execution_count": 14,
   "metadata": {},
   "outputs": [
    {
     "name": "stderr",
     "output_type": "stream",
     "text": [
      "/tmp/ipykernel_4111/1503880966.py:2: FutureWarning: \n",
      "\n",
      "Passing `palette` without assigning `hue` is deprecated and will be removed in v0.14.0. Assign the `x` variable to `hue` and set `legend=False` for the same effect.\n",
      "\n",
      "  sns.boxplot(x=data[\"verified_purchase\"], y=data[\"rating\"], palette=\"Blues\")\n"
     ]
    },
    {
     "data": {
      "image/png": "[encoded data removed]",
      "text/plain": [
       "<Figure size 700x400 with 1 Axes>"
      ]
     },
     "metadata": {},
     "output_type": "display_data"
    }
   ],
   "source": [
    "plt.figure(figsize=(7,4))\n",
    "sns.boxplot(x=data[\"verified_purchase\"], y=data[\"rating\"], palette=\"Blues\")\n",
    "plt.title(\"Rating by Verified Purchase\")\n",
    "plt.xlabel(\"Verified purchase\")\n",
    "plt.ylabel(\"Star Rating\")\n",
    "plt.show()"
   ]
  },
  {
   "cell_type": "code",
   "execution_count": 15,
   "metadata": {},
   "outputs": [
    {
     "name": "stderr",
     "output_type": "stream",
     "text": [
      "/tmp/ipykernel_4111/2520771551.py:5: UserWarning: Converting to PeriodArray/Index representation will drop timezone information.\n",
      "  data[\"month\"] = data[\"timestamp\"].dt.to_period(\"M\")\n"
     ]
    },
    {
     "data": {
      "image/png": "[encoded data removed]",
      "text/plain": [
       "<Figure size 1200x500 with 1 Axes>"
      ]
     },
     "metadata": {},
     "output_type": "display_data"
    }
   ],
   "source": [
    "# Convertir timestamp a fecha\n",
    "data[\"timestamp\"] = pd.to_datetime(data[\"timestamp\"], errors=\"coerce\")\n",
    "\n",
    "# Contar reseñas por mes\n",
    "data[\"month\"] = data[\"timestamp\"].dt.to_period(\"M\")\n",
    "reviews_per_month = data.groupby(\"month\")[\"rating\"].count()\n",
    "\n",
    "# Graficar la evolución de reseñas\n",
    "plt.figure(figsize=(12,5))\n",
    "reviews_per_month.plot()\n",
    "plt.title(\"Evolución de la Cantidad de Reseñas en el Tiempo\")\n",
    "plt.xlabel(\"Fecha\")\n",
    "plt.ylabel(\"Cantidad de Reseñas\")\n",
    "plt.xticks(rotation=45)\n",
    "plt.show()\n"
   ]
  },
  {
   "cell_type": "code",
   "execution_count": 16,
   "metadata": {},
   "outputs": [
    {
     "name": "stderr",
     "output_type": "stream",
     "text": [
      "/tmp/ipykernel_4111/3536199634.py:6: UserWarning: Converting to PeriodArray/Index representation will drop timezone information.\n",
      "  data['year_month'] = data['timestamp'].dt.to_period('M')\n"
     ]
    },
    {
     "data": {
      "text/html": [
       "<div>\n",
       "<style scoped>\n",
       "    .dataframe tbody tr th:only-of-type {\n",
       "        vertical-align: middle;\n",
       "    }\n",
       "\n",
       "    .dataframe tbody tr th {\n",
       "        vertical-align: top;\n",
       "    }\n",
       "\n",
       "    .dataframe thead th {\n",
       "        text-align: right;\n",
       "    }\n",
       "</style>\n",
       "<table border=\"1\" class=\"dataframe\">\n",
       "  <thead>\n",
       "    <tr style=\"text-align: right;\">\n",
       "      <th></th>\n",
       "      <th>year_month</th>\n",
       "      <th>parent_asin</th>\n",
       "      <th>purchase_count</th>\n",
       "    </tr>\n",
       "  </thead>\n",
       "  <tbody>\n",
       "    <tr>\n",
       "      <th>0</th>\n",
       "      <td>2023-01</td>\n",
       "      <td>B0C2Q4V8TR</td>\n",
       "      <td>154</td>\n",
       "    </tr>\n",
       "    <tr>\n",
       "      <th>1</th>\n",
       "      <td>2023-02</td>\n",
       "      <td>B0BHRZYNTS</td>\n",
       "      <td>106</td>\n",
       "    </tr>\n",
       "    <tr>\n",
       "      <th>2</th>\n",
       "      <td>2023-03</td>\n",
       "      <td>B0BMBC1FJX</td>\n",
       "      <td>121</td>\n",
       "    </tr>\n",
       "    <tr>\n",
       "      <th>3</th>\n",
       "      <td>2023-04</td>\n",
       "      <td>B0BMBC1FJX</td>\n",
       "      <td>146</td>\n",
       "    </tr>\n",
       "    <tr>\n",
       "      <th>4</th>\n",
       "      <td>2023-05</td>\n",
       "      <td>B0BMBC1FJX</td>\n",
       "      <td>99</td>\n",
       "    </tr>\n",
       "    <tr>\n",
       "      <th>5</th>\n",
       "      <td>2023-06</td>\n",
       "      <td>B0BMBC1FJX</td>\n",
       "      <td>69</td>\n",
       "    </tr>\n",
       "    <tr>\n",
       "      <th>6</th>\n",
       "      <td>2023-07</td>\n",
       "      <td>B0BMBC1FJX</td>\n",
       "      <td>48</td>\n",
       "    </tr>\n",
       "    <tr>\n",
       "      <th>7</th>\n",
       "      <td>2023-08</td>\n",
       "      <td>B0BMBC1FJX</td>\n",
       "      <td>28</td>\n",
       "    </tr>\n",
       "    <tr>\n",
       "      <th>8</th>\n",
       "      <td>2023-09</td>\n",
       "      <td>B0BN7S6HBS</td>\n",
       "      <td>3</td>\n",
       "    </tr>\n",
       "  </tbody>\n",
       "</table>\n",
       "</div>"
      ],
      "text/plain": [
       "  year_month parent_asin  purchase_count\n",
       "0    2023-01  B0C2Q4V8TR             154\n",
       "1    2023-02  B0BHRZYNTS             106\n",
       "2    2023-03  B0BMBC1FJX             121\n",
       "3    2023-04  B0BMBC1FJX             146\n",
       "4    2023-05  B0BMBC1FJX              99\n",
       "5    2023-06  B0BMBC1FJX              69\n",
       "6    2023-07  B0BMBC1FJX              48\n",
       "7    2023-08  B0BMBC1FJX              28\n",
       "8    2023-09  B0BN7S6HBS               3"
      ]
     },
     "execution_count": 16,
     "metadata": {},
     "output_type": "execute_result"
    }
   ],
   "source": [
    "# Cargar los datos de tu dataset (asegúrate de tener la columna 'timestamp' con la fecha de compra)\n",
    "# Asegurar que la columna de fecha tenga el formato correcto\n",
    "data['timestamp'] = pd.to_datetime(data['timestamp'], errors='coerce')\n",
    "\n",
    "# Extraer el mes y el año\n",
    "data['year_month'] = data['timestamp'].dt.to_period('M')\n",
    "\n",
    "# Contar la cantidad de compras (o reseñas) por producto en cada mes\n",
    "monthly_sales = data.groupby(['year_month', 'parent_asin']).size().reset_index(name='purchase_count')\n",
    "\n",
    "# Obtener el producto más comprado por cada mes\n",
    "top_products_per_month = monthly_sales.loc[monthly_sales.groupby('year_month')['purchase_count'].idxmax()].reset_index(drop = True)\n",
    "\n",
    "# Mostrar el resultado final agrupado por mes\n",
    "top_products_per_month.head(10)\n"
   ]
  },
  {
   "cell_type": "code",
   "execution_count": 17,
   "metadata": {},
   "outputs": [],
   "source": [
    "data[\"cleaned_text\"] = data[\"text\"].str.lower()"
   ]
  },
  {
   "cell_type": "code",
   "execution_count": 18,
   "metadata": {},
   "outputs": [],
   "source": [
    "data[\"cleaned_text\"] = data[\"cleaned_text\"].str.replace('[^\\\\w\\\\s]', '')"
   ]
  },
  {
   "cell_type": "code",
   "execution_count": 19,
   "metadata": {},
   "outputs": [],
   "source": [
    "data[\"cleaned_text\"] = data[\"cleaned_text\"].str.replace('\\\\d', '')"
   ]
  },
  {
   "cell_type": "code",
   "execution_count": 20,
   "metadata": {},
   "outputs": [],
   "source": [
    "data[\"text_length\"] = data[\"cleaned_text\"].astype(str).apply(len)\n",
    "data[\"text_word_count\"] = data[\"cleaned_text\"].astype(str).apply(lambda x: len(x.split()))"
   ]
  },
  {
   "cell_type": "code",
   "execution_count": 21,
   "metadata": {},
   "outputs": [
    {
     "data": {
      "text/html": [
       "<div>\n",
       "<style scoped>\n",
       "    .dataframe tbody tr th:only-of-type {\n",
       "        vertical-align: middle;\n",
       "    }\n",
       "\n",
       "    .dataframe tbody tr th {\n",
       "        vertical-align: top;\n",
       "    }\n",
       "\n",
       "    .dataframe thead th {\n",
       "        text-align: right;\n",
       "    }\n",
       "</style>\n",
       "<table border=\"1\" class=\"dataframe\">\n",
       "  <thead>\n",
       "    <tr style=\"text-align: right;\">\n",
       "      <th></th>\n",
       "      <th>rating</th>\n",
       "      <th>title</th>\n",
       "      <th>text</th>\n",
       "      <th>asin</th>\n",
       "      <th>parent_asin</th>\n",
       "      <th>user_id</th>\n",
       "      <th>timestamp</th>\n",
       "      <th>helpful_vote</th>\n",
       "      <th>verified_purchase</th>\n",
       "      <th>month</th>\n",
       "      <th>year_month</th>\n",
       "      <th>cleaned_text</th>\n",
       "      <th>text_length</th>\n",
       "      <th>text_word_count</th>\n",
       "    </tr>\n",
       "  </thead>\n",
       "  <tbody>\n",
       "    <tr>\n",
       "      <th>0</th>\n",
       "      <td>1.0</td>\n",
       "      <td>Not durable</td>\n",
       "      <td>Opened this and gave to my two medium size dog...</td>\n",
       "      <td>B0002ASNMU</td>\n",
       "      <td>B0BM21F82G</td>\n",
       "      <td>AFZ7XMWG6DXKI63EPOBPK7W7QIEQ</td>\n",
       "      <td>2023-02-22 02:35:57.945000+00:00</td>\n",
       "      <td>0</td>\n",
       "      <td>True</td>\n",
       "      <td>2023-02</td>\n",
       "      <td>2023-02</td>\n",
       "      <td>opened this and gave to my two medium size dog...</td>\n",
       "      <td>144</td>\n",
       "      <td>30</td>\n",
       "    </tr>\n",
       "    <tr>\n",
       "      <th>1</th>\n",
       "      <td>1.0</td>\n",
       "      <td>Warranty is a joke.</td>\n",
       "      <td>My dog chewed through this harness on about 3 ...</td>\n",
       "      <td>B00A7EXS5I</td>\n",
       "      <td>B07BRJF2SW</td>\n",
       "      <td>AFUORUIMJALPSG3VUWSXY2FMSDQA</td>\n",
       "      <td>2023-05-13 19:22:01.561000+00:00</td>\n",
       "      <td>2</td>\n",
       "      <td>True</td>\n",
       "      <td>2023-05</td>\n",
       "      <td>2023-05</td>\n",
       "      <td>my dog chewed through this harness on about 3 ...</td>\n",
       "      <td>318</td>\n",
       "      <td>62</td>\n",
       "    </tr>\n",
       "    <tr>\n",
       "      <th>2</th>\n",
       "      <td>1.0</td>\n",
       "      <td>Didn’t work</td>\n",
       "      <td>It didn’t work at all for my dog he is 30 lbs ...</td>\n",
       "      <td>B08MVBDV5V</td>\n",
       "      <td>B0C1VH3V99</td>\n",
       "      <td>AHXF542MTZNBO3VN67NF5VXLZ45Q</td>\n",
       "      <td>2023-07-05 04:08:21.669000+00:00</td>\n",
       "      <td>0</td>\n",
       "      <td>True</td>\n",
       "      <td>2023-07</td>\n",
       "      <td>2023-07</td>\n",
       "      <td>it didn’t work at all for my dog he is 30 lbs ...</td>\n",
       "      <td>125</td>\n",
       "      <td>26</td>\n",
       "    </tr>\n",
       "    <tr>\n",
       "      <th>3</th>\n",
       "      <td>1.0</td>\n",
       "      <td>Function</td>\n",
       "      <td>Cats didn’t use it😞</td>\n",
       "      <td>B093F6CV44</td>\n",
       "      <td>B094NHVKFN</td>\n",
       "      <td>AH42DXAG6RD24MH5KACH2Q3SQ73A</td>\n",
       "      <td>2023-02-03 18:09:01.735000+00:00</td>\n",
       "      <td>0</td>\n",
       "      <td>True</td>\n",
       "      <td>2023-02</td>\n",
       "      <td>2023-02</td>\n",
       "      <td>cats didn’t use it😞</td>\n",
       "      <td>19</td>\n",
       "      <td>4</td>\n",
       "    </tr>\n",
       "    <tr>\n",
       "      <th>4</th>\n",
       "      <td>1.0</td>\n",
       "      <td>Only squeezed twice.</td>\n",
       "      <td>Felt didn’t last. Squeaker stopped working aft...</td>\n",
       "      <td>B07P5PRRY5</td>\n",
       "      <td>B0B8BM4GS6</td>\n",
       "      <td>AFVSG4S2POGC5IENQGGBOPBQQ7VA</td>\n",
       "      <td>2023-02-25 20:15:10.152000+00:00</td>\n",
       "      <td>0</td>\n",
       "      <td>True</td>\n",
       "      <td>2023-02</td>\n",
       "      <td>2023-02</td>\n",
       "      <td>felt didn’t last. squeaker stopped working aft...</td>\n",
       "      <td>82</td>\n",
       "      <td>12</td>\n",
       "    </tr>\n",
       "  </tbody>\n",
       "</table>\n",
       "</div>"
      ],
      "text/plain": [
       "   rating                 title  \\\n",
       "0     1.0           Not durable   \n",
       "1     1.0   Warranty is a joke.   \n",
       "2     1.0           Didn’t work   \n",
       "3     1.0              Function   \n",
       "4     1.0  Only squeezed twice.   \n",
       "\n",
       "                                                text        asin parent_asin  \\\n",
       "0  Opened this and gave to my two medium size dog...  B0002ASNMU  B0BM21F82G   \n",
       "1  My dog chewed through this harness on about 3 ...  B00A7EXS5I  B07BRJF2SW   \n",
       "2  It didn’t work at all for my dog he is 30 lbs ...  B08MVBDV5V  B0C1VH3V99   \n",
       "3                                Cats didn’t use it😞  B093F6CV44  B094NHVKFN   \n",
       "4  Felt didn’t last. Squeaker stopped working aft...  B07P5PRRY5  B0B8BM4GS6   \n",
       "\n",
       "                        user_id                        timestamp  \\\n",
       "0  AFZ7XMWG6DXKI63EPOBPK7W7QIEQ 2023-02-22 02:35:57.945000+00:00   \n",
       "1  AFUORUIMJALPSG3VUWSXY2FMSDQA 2023-05-13 19:22:01.561000+00:00   \n",
       "2  AHXF542MTZNBO3VN67NF5VXLZ45Q 2023-07-05 04:08:21.669000+00:00   \n",
       "3  AH42DXAG6RD24MH5KACH2Q3SQ73A 2023-02-03 18:09:01.735000+00:00   \n",
       "4  AFVSG4S2POGC5IENQGGBOPBQQ7VA 2023-02-25 20:15:10.152000+00:00   \n",
       "\n",
       "   helpful_vote  verified_purchase    month year_month  \\\n",
       "0             0               True  2023-02    2023-02   \n",
       "1             2               True  2023-05    2023-05   \n",
       "2             0               True  2023-07    2023-07   \n",
       "3             0               True  2023-02    2023-02   \n",
       "4             0               True  2023-02    2023-02   \n",
       "\n",
       "                                        cleaned_text  text_length  \\\n",
       "0  opened this and gave to my two medium size dog...          144   \n",
       "1  my dog chewed through this harness on about 3 ...          318   \n",
       "2  it didn’t work at all for my dog he is 30 lbs ...          125   \n",
       "3                                cats didn’t use it😞           19   \n",
       "4  felt didn’t last. squeaker stopped working aft...           82   \n",
       "\n",
       "   text_word_count  \n",
       "0               30  \n",
       "1               62  \n",
       "2               26  \n",
       "3                4  \n",
       "4               12  "
      ]
     },
     "execution_count": 21,
     "metadata": {},
     "output_type": "execute_result"
    }
   ],
   "source": [
    "data.head()"
   ]
  },
  {
   "cell_type": "code",
   "execution_count": 32,
   "metadata": {},
   "outputs": [
    {
     "data": {
      "text/plain": [
       "57335     2665\n",
       "171693    1997\n",
       "69414     1622\n",
       "45838     1605\n",
       "226476    1556\n",
       "          ... \n",
       "236383       0\n",
       "275354       0\n",
       "112551       0\n",
       "17085        0\n",
       "252084       0\n",
       "Name: text_word_count, Length: 299771, dtype: int64"
      ]
     },
     "execution_count": 32,
     "metadata": {},
     "output_type": "execute_result"
    }
   ],
   "source": [
    "data[\"text_word_count\"].sort_values(ascending= False)"
   ]
  },
  {
   "cell_type": "code",
   "execution_count": 33,
   "metadata": {},
   "outputs": [
    {
     "name": "stdout",
     "output_type": "stream",
     "text": [
      "text_word_count\n",
      "0       1062\n",
      "1       1705\n",
      "2       3491\n",
      "3       3639\n",
      "4       4616\n",
      "        ... \n",
      "1556       1\n",
      "1605       1\n",
      "1622       1\n",
      "1997       1\n",
      "2665       1\n",
      "Name: count, Length: 669, dtype: int64\n"
     ]
    }
   ],
   "source": [
    "size_counts = data['text_word_count'].value_counts().sort_index()\n",
    "print(size_counts)\n"
   ]
  },
  {
   "cell_type": "code",
   "execution_count": 39,
   "metadata": {},
   "outputs": [
    {
     "data": {
      "text/plain": [
       "count    299771.000000\n",
       "mean         45.030607\n",
       "std          51.039036\n",
       "min           0.000000\n",
       "25%          15.000000\n",
       "50%          31.000000\n",
       "75%          57.000000\n",
       "max        2665.000000\n",
       "Name: text_word_count, dtype: float64"
      ]
     },
     "execution_count": 39,
     "metadata": {},
     "output_type": "execute_result"
    }
   ],
   "source": [
    "data[\"text_word_count\"].describe().T"
   ]
  },
  {
   "cell_type": "code",
   "execution_count": 43,
   "metadata": {},
   "outputs": [
    {
     "data": {
      "text/plain": [
       "132.0"
      ]
     },
     "execution_count": 43,
     "metadata": {},
     "output_type": "execute_result"
    }
   ],
   "source": [
    "data[\"text_word_count\"].quantile(0.95)"
   ]
  },
  {
   "cell_type": "markdown",
   "metadata": {},
   "source": [
    "nlp = spacy.load(\"en_core_web_sm\")\n",
    "\n",
    "def stopwords(text):\n",
    "    doc = nlp(text)\n",
    "    return \" \".join([token.lemma_ for token in doc if not token.is_stop and not token.is_punct])\n",
    "\n",
    "data[\"cleaned_text\"] = data[\"cleaned_text\"].apply(stopwords)"
   ]
  },
  {
   "cell_type": "markdown",
   "metadata": {},
   "source": [
    "import re\n",
    "import pandas as pd\n",
    "import html\n",
    "import spacy\n",
    "\n",
    "# Funciones de preprocesamiento simples\n",
    "def lower_text(text: str) -> str:\n",
    "    return text.lower()\n",
    "\n",
    "def strip_text(text: str) -> str:\n",
    "    return text.strip()\n",
    "\n",
    "def unescape_html(text: str) -> str:\n",
    "    return html.unescape(text)\n",
    "\n",
    "def remove_punctuation(text: str) -> str:\n",
    "    return re.sub(r\"[^\\w\\s]\", \"\", text)\n",
    "\n",
    "def remove_special_characters(text: str) -> str:\n",
    "    return re.sub(\"[^a-zA-Z0-9\\s]\", \"\", text)\n",
    "\n",
    "def remove_html_tags(text: str) -> str:\n",
    "    return re.sub(\"<.*?>\", \"\", text)\n",
    "\n",
    "# Lista de funciones de preprocesamiento que se aplicarán al texto\n",
    "PREPROCESSING_FUNCTIONS = [\n",
    "    lower_text, strip_text, remove_special_characters,\n",
    "    remove_punctuation, unescape_html, remove_html_tags\n",
    "]\n",
    "\n",
    "# Eliminar stopwords usando spaCy\n",
    "def remove_stopwords(nlp: spacy.language.Language, text: str) -> str:\n",
    "    doc = nlp(text)\n",
    "    return \" \".join([token.text for token in doc if not token.is_stop])\n",
    "\n",
    "# Lematizar y eliminar stopwords\n",
    "def lemmatize_and_remove_stopwords(nlp: spacy.language.Language, text: str) -> str:\n",
    "    doc = nlp(text)\n",
    "    return \" \".join([token.lemma_ for token in doc if not token.is_stop])\n",
    "\n",
    "# Función principal para procesar un lote de textos\n",
    "def process_texts(nlp: spacy.language.Language, texts: pd.Series) -> pd.Series:\n",
    "    # Preprocesar los textos (aplicar las funciones en PREPROCESSING_FUNCTIONS)\n",
    "    def apply_preprocessing(text: str) -> str:\n",
    "        for func in PREPROCESSING_FUNCTIONS:\n",
    "            text = func(text)\n",
    "        return text\n",
    "\n",
    "    # Aplicar preprocesamiento a todos los textos\n",
    "    preprocessed_texts = texts.apply(apply_preprocessing)\n",
    "    \n",
    "    # Aplicar lematización y eliminar stopwords\n",
    "    processed_texts = preprocessed_texts.apply(lambda text: lemmatize_and_remove_stopwords(nlp, text))\n",
    "\n",
    "    return processed_texts\n"
   ]
  }
 ],
 "metadata": {
  "kernelspec": {
   "display_name": "faster_pandas",
   "language": "python",
   "name": "python3"
  },
  "language_info": {
   "codemirror_mode": {
    "name": "ipython",
    "version": 3
   },
   "file_extension": ".py",
   "mimetype": "text/x-python",
   "name": "python",
   "nbconvert_exporter": "python",
   "pygments_lexer": "ipython3",
   "version": "3.12.8"
  }
 },
 "nbformat": 4,
 "nbformat_minor": 2
}
